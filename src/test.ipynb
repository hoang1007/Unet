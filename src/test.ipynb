{
 "cells": [
  {
   "cell_type": "code",
   "execution_count": 2,
   "metadata": {},
   "outputs": [
    {
     "name": "stdout",
     "output_type": "stream",
     "text": [
      "-------------------------------------------------------  ------------  ------------  ------------  ------------  ------------  ------------  ------------  ------------  ------------  ------------  \n",
      "                                                   Name    Self CPU %      Self CPU   CPU total %     CPU total  CPU time avg     Self CUDA   Self CUDA %    CUDA total  CUDA time avg    # of Calls  \n",
      "-------------------------------------------------------  ------------  ------------  ------------  ------------  ------------  ------------  ------------  ------------  ------------  ------------  \n",
      "void at::native::vectorized_elementwise_kernel<4, at...         0.00%       0.000us         0.00%       0.000us       0.000us     259.000us       100.00%     259.000us       2.590us           100  \n",
      "                                       cudaLaunchKernel        98.54%     740.000us        98.54%     740.000us       7.400us       0.000us         0.00%       0.000us       0.000us           100  \n",
      "                                  cudaDeviceSynchronize         1.46%      11.000us         1.46%      11.000us      11.000us       0.000us         0.00%       0.000us       0.000us             1  \n",
      "-------------------------------------------------------  ------------  ------------  ------------  ------------  ------------  ------------  ------------  ------------  ------------  ------------  \n",
      "Self CPU time total: 751.000us\n",
      "Self CUDA time total: 259.000us\n",
      "\n"
     ]
    },
    {
     "name": "stderr",
     "output_type": "stream",
     "text": [
      "STAGE:2023-03-01 14:41:00 30018:30018 ActivityProfilerController.cpp:300] Completed Stage: Collection\n",
      "STAGE:2023-03-01 14:41:00 30018:30018 ActivityProfilerController.cpp:294] Completed Stage: Warm Up\n",
      "STAGE:2023-03-01 14:41:00 30018:30018 ActivityProfilerController.cpp:300] Completed Stage: Collection\n"
     ]
    }
   ],
   "source": [
    "import torch\n",
    "from torch.profiler import profile, record_function, ProfilerActivity\n",
    "\n",
    "x = torch.rand([1, 2, 3], device=\"cuda\", requires_grad=True)\n",
    "\n",
    "prof = profile(activities=[ProfilerActivity.CUDA], with_flops=True)\n",
    "prof.start()\n",
    "for _ in range(100):\n",
    "    x = x ** 2\n",
    "    prof.step()\n",
    "prof.stop()\n",
    "\n",
    "print(prof.key_averages().table(sort_by=\"cuda_time_total\"))"
   ]
  }
 ],
 "metadata": {
  "kernelspec": {
   "display_name": "hoang",
   "language": "python",
   "name": "python3"
  },
  "language_info": {
   "codemirror_mode": {
    "name": "ipython",
    "version": 3
   },
   "file_extension": ".py",
   "mimetype": "text/x-python",
   "name": "python",
   "nbconvert_exporter": "python",
   "pygments_lexer": "ipython3",
   "version": "3.10.9"
  },
  "orig_nbformat": 4,
  "vscode": {
   "interpreter": {
    "hash": "d32fd20a849988a457c524a8e6bb8c3ad25eed0c09d27a2ed1e7335a456dc06d"
   }
  }
 },
 "nbformat": 4,
 "nbformat_minor": 2
}
